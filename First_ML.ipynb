{
 "cells": [
  {
   "cell_type": "code",
   "execution_count": 7,
   "id": "c23e385e-7c98-47b0-a2c2-435f115c8f19",
   "metadata": {},
   "outputs": [],
   "source": [
    "from sklearn import tree"
   ]
  },
  {
   "cell_type": "code",
   "execution_count": 8,
   "id": "cc64a28c-6d05-499d-abc6-a69aa4d26eee",
   "metadata": {},
   "outputs": [],
   "source": [
    "# Features = [\"Weight\": n, \"Color\": [0: \"Red\", 1: \"Orange\"]] based on weight and color the machine will presict whether according to the given\n",
    "# information the data is an apple or an orange.\n",
    "# data\n",
    "features = [[150, 0],\n",
    "            [130, 0],\n",
    "            [100, 1],\n",
    "            [110, 1]]\n",
    "labels = [\"Apple\", \"Apple\", \"Orange\", \"Orange\"]"
   ]
  },
  {
   "cell_type": "code",
   "execution_count": 11,
   "id": "758b758f-9060-4151-a5f9-fffbfaf7c0ef",
   "metadata": {},
   "outputs": [],
   "source": [
    "# Training the model\n",
    "clf = tree.DecisionTreeClassifier()\n",
    "clf = clf.fit(features, labels)"
   ]
  },
  {
   "cell_type": "code",
   "execution_count": 34,
   "id": "99d4b9a3-25d0-4fe6-b6be-49e2469e37ad",
   "metadata": {},
   "outputs": [
    {
     "name": "stdout",
     "output_type": "stream",
     "text": [
      "According to the given data the product could be: ['Apple' 'Orange' 'Orange' 'Apple' 'Apple']\n"
     ]
    }
   ],
   "source": [
    "# Predicting\n",
    "print(\"According to the given data the product could be:\", clf.predict([[130, 0], [90, 1], [80, 0], [130, 0], [150, 1]]))"
   ]
  }
 ],
 "metadata": {
  "kernelspec": {
   "display_name": "Python 3 (ipykernel)",
   "language": "python",
   "name": "python3"
  },
  "language_info": {
   "codemirror_mode": {
    "name": "ipython",
    "version": 3
   },
   "file_extension": ".py",
   "mimetype": "text/x-python",
   "name": "python",
   "nbconvert_exporter": "python",
   "pygments_lexer": "ipython3",
   "version": "3.12.7"
  }
 },
 "nbformat": 4,
 "nbformat_minor": 5
}
